{
  "nbformat": 4,
  "nbformat_minor": 0,
  "metadata": {
    "colab": {
      "name": "experiment 1 numpy.ipynb",
      "provenance": [],
      "authorship_tag": "ABX9TyMBs3wrtaUiPjEGfkMRpoeR",
      "include_colab_link": true
    },
    "kernelspec": {
      "name": "python3",
      "display_name": "Python 3"
    }
  },
  "cells": [
    {
      "cell_type": "markdown",
      "metadata": {
        "id": "view-in-github",
        "colab_type": "text"
      },
      "source": [
        "<a href=\"https://colab.research.google.com/github/kalipradeep/AI-Lab/blob/master/experiment_1_numpy.ipynb\" target=\"_parent\"><img src=\"https://colab.research.google.com/assets/colab-badge.svg\" alt=\"Open In Colab\"/></a>"
      ]
    },
    {
      "cell_type": "markdown",
      "metadata": {
        "id": "38vOAB3BXFly",
        "colab_type": "text"
      },
      "source": [
        "# 1) Experiment 1: Numpy"
      ]
    },
    {
      "cell_type": "markdown",
      "metadata": {
        "id": "3wpyWMIHXaB4",
        "colab_type": "text"
      },
      "source": [
        "## i) Different ways to create NumPy arrays"
      ]
    },
    {
      "cell_type": "markdown",
      "metadata": {
        "id": "AulBI83nXk1X",
        "colab_type": "text"
      },
      "source": [
        "### a) Create a numpy array using list"
      ]
    },
    {
      "cell_type": "code",
      "metadata": {
        "id": "fv9Ar0mHXsyZ",
        "colab_type": "code",
        "colab": {
          "base_uri": "https://localhost:8080/",
          "height": 34
        },
        "outputId": "3a7de84f-ec0a-471c-e67c-468e262594c1"
      },
      "source": [
        "# import the package\n",
        "import numpy as np\n",
        "\n",
        "a=np.array([123,234,453])\n",
        "a"
      ],
      "execution_count": 2,
      "outputs": [
        {
          "output_type": "execute_result",
          "data": {
            "text/plain": [
              "array([123, 234, 453])"
            ]
          },
          "metadata": {
            "tags": []
          },
          "execution_count": 2
        }
      ]
    },
    {
      "cell_type": "code",
      "metadata": {
        "id": "MBUU_iIuYGK1",
        "colab_type": "code",
        "colab": {}
      },
      "source": [
        ""
      ],
      "execution_count": null,
      "outputs": []
    }
  ]
}